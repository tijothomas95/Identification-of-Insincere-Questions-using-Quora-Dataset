{
 "cells": [
  {
   "cell_type": "markdown",
   "metadata": {},
   "source": [
    "# Quora Insincere Questions Classification"
   ]
  },
  {
   "cell_type": "code",
   "execution_count": 1,
   "metadata": {},
   "outputs": [
    {
     "name": "stdout",
     "output_type": "stream",
     "text": [
      "[nltk_data] Downloading package wordnet to\n",
      "[nltk_data]     C:\\Users\\Admin\\AppData\\Roaming\\nltk_data...\n",
      "[nltk_data]   Package wordnet is already up-to-date!\n"
     ]
    },
    {
     "data": {
      "text/plain": [
       "True"
      ]
     },
     "execution_count": 1,
     "metadata": {},
     "output_type": "execute_result"
    }
   ],
   "source": [
    "#Loading necessary libraries for the classification model implementation using Scikit-learn\n",
    "import numpy as np \n",
    "import pandas as pd\n",
    "import os\n",
    "import nltk\n",
    "from nltk.corpus import stopwords\n",
    "from sklearn.metrics import f1_score,classification_report,accuracy_score\n",
    "from sklearn.model_selection import KFold\n",
    "from sklearn.feature_extraction.text import TfidfVectorizer,CountVectorizer\n",
    "from sklearn.linear_model import LogisticRegression\n",
    "from sklearn.model_selection import cross_val_score\n",
    "from sklearn.ensemble import RandomForestClassifier\n",
    "from sklearn.ensemble import RandomForestRegressor\n",
    "from sklearn.naive_bayes import MultinomialNB,BernoulliNB\n",
    "\n",
    "#Importing necessary packages for confusion matrix\n",
    "import mlxtend\n",
    "from sklearn.metrics import (confusion_matrix, precision_recall_curve, auc,\n",
    "                             roc_curve, recall_score, classification_report, f1_score,\n",
    "                             precision_recall_fscore_support)\n",
    "from mlxtend.plotting import plot_confusion_matrix\n",
    "import matplotlib.pyplot as plt\n",
    "import pylab as pl\n",
    "\n",
    "%matplotlib inline\n",
    "\n",
    "import nltk\n",
    "nltk.download('wordnet')"
   ]
  },
  {
   "cell_type": "code",
   "execution_count": 3,
   "metadata": {},
   "outputs": [],
   "source": [
    "#Loading the files into Jupyter notebook\n",
    "train_data = pd.read_csv('G:/DIT WebCourse/S2/Machine learning/assignment/assignmnt1/datasets/train.csv')\n",
    "test_data = pd.read_csv('G:/DIT WebCourse/S2/Machine learning/assignment/assignmnt1/datasets/test.csv')"
   ]
  },
  {
   "cell_type": "code",
   "execution_count": 4,
   "metadata": {},
   "outputs": [
    {
     "data": {
      "text/plain": [
       "(1306122, 3)"
      ]
     },
     "execution_count": 4,
     "metadata": {},
     "output_type": "execute_result"
    }
   ],
   "source": [
    "train_data.shape #for identifying the metric size of train data"
   ]
  },
  {
   "cell_type": "code",
   "execution_count": 5,
   "metadata": {},
   "outputs": [
    {
     "data": {
      "text/html": [
       "<div>\n",
       "<style scoped>\n",
       "    .dataframe tbody tr th:only-of-type {\n",
       "        vertical-align: middle;\n",
       "    }\n",
       "\n",
       "    .dataframe tbody tr th {\n",
       "        vertical-align: top;\n",
       "    }\n",
       "\n",
       "    .dataframe thead th {\n",
       "        text-align: right;\n",
       "    }\n",
       "</style>\n",
       "<table border=\"1\" class=\"dataframe\">\n",
       "  <thead>\n",
       "    <tr style=\"text-align: right;\">\n",
       "      <th></th>\n",
       "      <th>qid</th>\n",
       "      <th>question_text</th>\n",
       "      <th>target</th>\n",
       "    </tr>\n",
       "  </thead>\n",
       "  <tbody>\n",
       "    <tr>\n",
       "      <th>0</th>\n",
       "      <td>00002165364db923c7e6</td>\n",
       "      <td>How did Quebec nationalists see their province...</td>\n",
       "      <td>0</td>\n",
       "    </tr>\n",
       "    <tr>\n",
       "      <th>1</th>\n",
       "      <td>000032939017120e6e44</td>\n",
       "      <td>Do you have an adopted dog, how would you enco...</td>\n",
       "      <td>0</td>\n",
       "    </tr>\n",
       "    <tr>\n",
       "      <th>2</th>\n",
       "      <td>0000412ca6e4628ce2cf</td>\n",
       "      <td>Why does velocity affect time? Does velocity a...</td>\n",
       "      <td>0</td>\n",
       "    </tr>\n",
       "    <tr>\n",
       "      <th>3</th>\n",
       "      <td>000042bf85aa498cd78e</td>\n",
       "      <td>How did Otto von Guericke used the Magdeburg h...</td>\n",
       "      <td>0</td>\n",
       "    </tr>\n",
       "    <tr>\n",
       "      <th>4</th>\n",
       "      <td>0000455dfa3e01eae3af</td>\n",
       "      <td>Can I convert montra helicon D to a mountain b...</td>\n",
       "      <td>0</td>\n",
       "    </tr>\n",
       "  </tbody>\n",
       "</table>\n",
       "</div>"
      ],
      "text/plain": [
       "                    qid                                      question_text  \\\n",
       "0  00002165364db923c7e6  How did Quebec nationalists see their province...   \n",
       "1  000032939017120e6e44  Do you have an adopted dog, how would you enco...   \n",
       "2  0000412ca6e4628ce2cf  Why does velocity affect time? Does velocity a...   \n",
       "3  000042bf85aa498cd78e  How did Otto von Guericke used the Magdeburg h...   \n",
       "4  0000455dfa3e01eae3af  Can I convert montra helicon D to a mountain b...   \n",
       "\n",
       "   target  \n",
       "0       0  \n",
       "1       0  \n",
       "2       0  \n",
       "3       0  \n",
       "4       0  "
      ]
     },
     "execution_count": 5,
     "metadata": {},
     "output_type": "execute_result"
    }
   ],
   "source": [
    "train_data.head() # for listing initial 5 records used in train data"
   ]
  },
  {
   "cell_type": "code",
   "execution_count": 6,
   "metadata": {},
   "outputs": [
    {
     "data": {
      "text/plain": [
       "0    1225312\n",
       "1      80810\n",
       "Name: target, dtype: int64"
      ]
     },
     "execution_count": 6,
     "metadata": {},
     "output_type": "execute_result"
    }
   ],
   "source": [
    "train_data['target'].value_counts() #Identifying the count of train data records based on the target value"
   ]
  },
  {
   "cell_type": "code",
   "execution_count": 7,
   "metadata": {},
   "outputs": [],
   "source": [
    "train_text = train_data['question_text'] #Extracting the text values from train data and assigning to a variable.\n",
    "test_text = test_data['question_text'] #Extracting the text values from test data and assigning to a variable.\n",
    "train_target = train_data['target'] #Extracting the target value used in train data.\n",
    "all_text = train_text.append(test_text) #Appending the texts from train data with test data."
   ]
  },
  {
   "cell_type": "code",
   "execution_count": 8,
   "metadata": {},
   "outputs": [],
   "source": [
    "tfidf_vectorizer = TfidfVectorizer() #Using TfidfVectorizer function to convert the raw text sentences to a matrix for feature extraction.\n",
    "tfidf_vectorizer.fit(all_text) #Passing the all text sentences to the TfidfVectorizer function.\n",
    "\n",
    "count_vectorizer = CountVectorizer() \n",
    "count_vectorizer.fit(all_text) #Using CountVectorizer function to convert texts to word count vectors.\n",
    "\n",
    "train_text_features_cv = count_vectorizer.transform(train_text) #Passing train data to CountVectorizer method.\n",
    "test_text_features_cv = count_vectorizer.transform(test_text) #Similarly passing the testdata to CountVectorizer method.\n",
    "\n",
    "train_text_features_tf = tfidf_vectorizer.transform(train_text) \n",
    "test_text_features_tf = tfidf_vectorizer.transform(test_text)"
   ]
  },
  {
   "cell_type": "markdown",
   "metadata": {},
   "source": [
    "### Logistic regression without processing"
   ]
  },
  {
   "cell_type": "code",
   "execution_count": 9,
   "metadata": {},
   "outputs": [
    {
     "name": "stdout",
     "output_type": "stream",
     "text": [
      "\n",
      "\n",
      "\n",
      "\n",
      "\n",
      "\n",
      "\n",
      "\n",
      "\n",
      "\n"
     ]
    }
   ],
   "source": [
    "kfold = KFold(n_splits = 5, shuffle = True, random_state = 2018) #Using k-fold validation with split value of 5\n",
    "test_preds = 0\n",
    "oof_preds = np.zeros([train_data.shape[0],])\n",
    "\n",
    "for i, (train_idx,valid_idx) in enumerate(kfold.split(train_data)):\n",
    "    x_train, x_valid = train_text_features_tf[train_idx,:], train_text_features_tf[valid_idx,:]\n",
    "    y_train, y_valid = train_target[train_idx], train_target[valid_idx]\n",
    "    classifier = LogisticRegression() # Defining the Logistic regression classifier, train data, test data.\n",
    "    classifier.fit(x_train,y_train)\n",
    "    oof_preds[valid_idx] = classifier.predict_proba(x_valid)[:,1]\n",
    "    test_preds += 0.2*classifier.predict_proba(test_text_features_tf)[:,1]"
   ]
  },
  {
   "cell_type": "code",
   "execution_count": 10,
   "metadata": {},
   "outputs": [
    {
     "name": "stdout",
     "output_type": "stream",
     "text": [
      "Logistic Regression\n",
      "\n",
      "             precision    recall  f1-score   support\n",
      "\n",
      "          0       0.98      0.97      0.97   1225312\n",
      "          1       0.58      0.66      0.62     80810\n",
      "\n",
      "avg / total       0.95      0.95      0.95   1306122\n",
      "\n"
     ]
    }
   ],
   "source": [
    "pred_train = (oof_preds > .25).astype(np.int)\n",
    "f1_score(train_target, pred_train) #Finding the f1 score of logistic regression classifier for evaluation\n",
    "print(\"Logistic Regression\\n\")\n",
    "print(classification_report(train_target, pred_train))\n"
   ]
  },
  {
   "cell_type": "code",
   "execution_count": 11,
   "metadata": {},
   "outputs": [
    {
     "name": "stdout",
     "output_type": "stream",
     "text": [
      "0.949198466911973\n"
     ]
    }
   ],
   "source": [
    "print(accuracy_score(train_target, pred_train))"
   ]
  },
  {
   "cell_type": "markdown",
   "metadata": {},
   "source": [
    "### Multinomial and Bernoulli Naive Bayes classifiers without pre- processing"
   ]
  },
  {
   "cell_type": "code",
   "execution_count": 12,
   "metadata": {},
   "outputs": [],
   "source": [
    "\n",
    "kfold = KFold(n_splits = 5, shuffle = True, random_state = 2018) #Using k-fold validation with split value of 5\n",
    "test_preds1 = 0\n",
    "oof_preds1 = np.zeros([train_data.shape[0],])\n",
    "\n",
    "test_preds2 = 0\n",
    "oof_preds2 = np.zeros([train_data.shape[0],])\n",
    "\n",
    "for i, (train_idx,valid_idx) in enumerate(kfold.split(train_data)):\n",
    "    x_train, x_valid = train_text_features_cv[train_idx,:], train_text_features_cv[valid_idx,:]\n",
    "    y_train, y_valid = train_target[train_idx], train_target[valid_idx]\n",
    "    classifier1 = MultinomialNB() # Defining the Multinomial NaiveBayes classifier, train data, test data.\n",
    "    classifier2 = BernoulliNB() # Defining the Bernoulli NaiveBayes classifier, train data, test data.\n",
    "    classifier1.fit(x_train,y_train)\n",
    "    classifier2.fit(x_train,y_train)\n",
    "    oof_preds1[valid_idx] = classifier1.predict_proba(x_valid)[:,1]\n",
    "    test_preds1 += 0.2*classifier1.predict_proba(test_text_features_cv)[:,1]\n",
    "    oof_preds2[valid_idx] = classifier2.predict_proba(x_valid)[:,1]\n",
    "    test_preds2 += 0.2*classifier2.predict_proba(test_text_features_cv)[:,1]"
   ]
  },
  {
   "cell_type": "code",
   "execution_count": 13,
   "metadata": {},
   "outputs": [
    {
     "name": "stdout",
     "output_type": "stream",
     "text": [
      "Multinomial Naive Bayes\n",
      "\n",
      "             precision    recall  f1-score   support\n",
      "\n",
      "          0       0.98      0.93      0.96   1225312\n",
      "          1       0.42      0.72      0.53     80810\n",
      "\n",
      "avg / total       0.95      0.92      0.93   1306122\n",
      "\n"
     ]
    }
   ],
   "source": [
    "pred_train = (oof_preds1 > .3).astype(np.int)\n",
    "f1_score(train_target, pred_train) #Finding the f1 score of Multinomial NaiveBayes classifier for evaluation.\n",
    "print(\"Multinomial Naive Bayes\\n\")\n",
    "print(classification_report(train_target, pred_train))"
   ]
  },
  {
   "cell_type": "code",
   "execution_count": 14,
   "metadata": {},
   "outputs": [
    {
     "name": "stdout",
     "output_type": "stream",
     "text": [
      "Bernoulli Naive Bayes\n",
      "\n",
      "             precision    recall  f1-score   support\n",
      "\n",
      "          0       0.98      0.95      0.96   1225312\n",
      "          1       0.45      0.64      0.52     80810\n",
      "\n",
      "avg / total       0.94      0.93      0.93   1306122\n",
      "\n"
     ]
    }
   ],
   "source": [
    "pred_train = (oof_preds2 > .3).astype(np.int)\n",
    "f1_score(train_target, pred_train) #Finding the f1 score of Bernoulli NaiveBayes classifier for evaluation.\n",
    "print(\"Bernoulli Naive Bayes\\n\")\n",
    "print(classification_report(train_target, pred_train))"
   ]
  },
  {
   "cell_type": "markdown",
   "metadata": {},
   "source": [
    "# Cleaning and Processing of datasets"
   ]
  },
  {
   "cell_type": "code",
   "execution_count": 15,
   "metadata": {},
   "outputs": [
    {
     "data": {
      "text/plain": [
       "qid              0\n",
       "question_text    0\n",
       "target           0\n",
       "dtype: int64"
      ]
     },
     "execution_count": 15,
     "metadata": {},
     "output_type": "execute_result"
    }
   ],
   "source": [
    "train_data.isnull().sum() #Taking count of nullentries"
   ]
  },
  {
   "cell_type": "code",
   "execution_count": 16,
   "metadata": {},
   "outputs": [
    {
     "data": {
      "text/html": [
       "<div>\n",
       "<style scoped>\n",
       "    .dataframe tbody tr th:only-of-type {\n",
       "        vertical-align: middle;\n",
       "    }\n",
       "\n",
       "    .dataframe tbody tr th {\n",
       "        vertical-align: top;\n",
       "    }\n",
       "\n",
       "    .dataframe thead th {\n",
       "        text-align: right;\n",
       "    }\n",
       "</style>\n",
       "<table border=\"1\" class=\"dataframe\">\n",
       "  <thead>\n",
       "    <tr style=\"text-align: right;\">\n",
       "      <th></th>\n",
       "      <th>question_text</th>\n",
       "      <th>word_count</th>\n",
       "    </tr>\n",
       "  </thead>\n",
       "  <tbody>\n",
       "    <tr>\n",
       "      <th>0</th>\n",
       "      <td>How did Quebec nationalists see their province...</td>\n",
       "      <td>13</td>\n",
       "    </tr>\n",
       "    <tr>\n",
       "      <th>1</th>\n",
       "      <td>Do you have an adopted dog, how would you enco...</td>\n",
       "      <td>16</td>\n",
       "    </tr>\n",
       "    <tr>\n",
       "      <th>2</th>\n",
       "      <td>Why does velocity affect time? Does velocity a...</td>\n",
       "      <td>10</td>\n",
       "    </tr>\n",
       "    <tr>\n",
       "      <th>3</th>\n",
       "      <td>How did Otto von Guericke used the Magdeburg h...</td>\n",
       "      <td>9</td>\n",
       "    </tr>\n",
       "    <tr>\n",
       "      <th>4</th>\n",
       "      <td>Can I convert montra helicon D to a mountain b...</td>\n",
       "      <td>15</td>\n",
       "    </tr>\n",
       "  </tbody>\n",
       "</table>\n",
       "</div>"
      ],
      "text/plain": [
       "                                       question_text  word_count\n",
       "0  How did Quebec nationalists see their province...          13\n",
       "1  Do you have an adopted dog, how would you enco...          16\n",
       "2  Why does velocity affect time? Does velocity a...          10\n",
       "3  How did Otto von Guericke used the Magdeburg h...           9\n",
       "4  Can I convert montra helicon D to a mountain b...          15"
      ]
     },
     "execution_count": 16,
     "metadata": {},
     "output_type": "execute_result"
    }
   ],
   "source": [
    "#Splitting into words and taking count\n",
    "train_data['word_count'] = train_data['question_text'].apply(lambda x: len(str(x).split(\" \")))\n",
    "train_data[['question_text','word_count']].head()\n"
   ]
  },
  {
   "cell_type": "code",
   "execution_count": 17,
   "metadata": {},
   "outputs": [
    {
     "data": {
      "text/html": [
       "<div>\n",
       "<style scoped>\n",
       "    .dataframe tbody tr th:only-of-type {\n",
       "        vertical-align: middle;\n",
       "    }\n",
       "\n",
       "    .dataframe tbody tr th {\n",
       "        vertical-align: top;\n",
       "    }\n",
       "\n",
       "    .dataframe thead th {\n",
       "        text-align: right;\n",
       "    }\n",
       "</style>\n",
       "<table border=\"1\" class=\"dataframe\">\n",
       "  <thead>\n",
       "    <tr style=\"text-align: right;\">\n",
       "      <th></th>\n",
       "      <th>question_text</th>\n",
       "      <th>word_count</th>\n",
       "    </tr>\n",
       "  </thead>\n",
       "  <tbody>\n",
       "    <tr>\n",
       "      <th>0</th>\n",
       "      <td>Why do so many women become so rude and arroga...</td>\n",
       "      <td>21</td>\n",
       "    </tr>\n",
       "    <tr>\n",
       "      <th>1</th>\n",
       "      <td>When should I apply for RV college of engineer...</td>\n",
       "      <td>30</td>\n",
       "    </tr>\n",
       "    <tr>\n",
       "      <th>2</th>\n",
       "      <td>What is it really like to be a nurse practitio...</td>\n",
       "      <td>10</td>\n",
       "    </tr>\n",
       "    <tr>\n",
       "      <th>3</th>\n",
       "      <td>Who are entrepreneurs?</td>\n",
       "      <td>3</td>\n",
       "    </tr>\n",
       "    <tr>\n",
       "      <th>4</th>\n",
       "      <td>Is education really making good people nowadays?</td>\n",
       "      <td>7</td>\n",
       "    </tr>\n",
       "  </tbody>\n",
       "</table>\n",
       "</div>"
      ],
      "text/plain": [
       "                                       question_text  word_count\n",
       "0  Why do so many women become so rude and arroga...          21\n",
       "1  When should I apply for RV college of engineer...          30\n",
       "2  What is it really like to be a nurse practitio...          10\n",
       "3                             Who are entrepreneurs?           3\n",
       "4   Is education really making good people nowadays?           7"
      ]
     },
     "execution_count": 17,
     "metadata": {},
     "output_type": "execute_result"
    }
   ],
   "source": [
    "#Word count in test data\n",
    "test_data['word_count'] = test_data['question_text'].apply(lambda x: len(str(x).split(\" \")))\n",
    "test_data[['question_text','word_count']].head()\n"
   ]
  },
  {
   "cell_type": "code",
   "execution_count": 18,
   "metadata": {},
   "outputs": [
    {
     "data": {
      "text/html": [
       "<div>\n",
       "<style scoped>\n",
       "    .dataframe tbody tr th:only-of-type {\n",
       "        vertical-align: middle;\n",
       "    }\n",
       "\n",
       "    .dataframe tbody tr th {\n",
       "        vertical-align: top;\n",
       "    }\n",
       "\n",
       "    .dataframe thead th {\n",
       "        text-align: right;\n",
       "    }\n",
       "</style>\n",
       "<table border=\"1\" class=\"dataframe\">\n",
       "  <thead>\n",
       "    <tr style=\"text-align: right;\">\n",
       "      <th></th>\n",
       "      <th>question_text</th>\n",
       "      <th>char_count</th>\n",
       "    </tr>\n",
       "  </thead>\n",
       "  <tbody>\n",
       "    <tr>\n",
       "      <th>0</th>\n",
       "      <td>How did Quebec nationalists see their province...</td>\n",
       "      <td>72</td>\n",
       "    </tr>\n",
       "    <tr>\n",
       "      <th>1</th>\n",
       "      <td>Do you have an adopted dog, how would you enco...</td>\n",
       "      <td>81</td>\n",
       "    </tr>\n",
       "    <tr>\n",
       "      <th>2</th>\n",
       "      <td>Why does velocity affect time? Does velocity a...</td>\n",
       "      <td>67</td>\n",
       "    </tr>\n",
       "    <tr>\n",
       "      <th>3</th>\n",
       "      <td>How did Otto von Guericke used the Magdeburg h...</td>\n",
       "      <td>57</td>\n",
       "    </tr>\n",
       "    <tr>\n",
       "      <th>4</th>\n",
       "      <td>Can I convert montra helicon D to a mountain b...</td>\n",
       "      <td>77</td>\n",
       "    </tr>\n",
       "  </tbody>\n",
       "</table>\n",
       "</div>"
      ],
      "text/plain": [
       "                                       question_text  char_count\n",
       "0  How did Quebec nationalists see their province...          72\n",
       "1  Do you have an adopted dog, how would you enco...          81\n",
       "2  Why does velocity affect time? Does velocity a...          67\n",
       "3  How did Otto von Guericke used the Magdeburg h...          57\n",
       "4  Can I convert montra helicon D to a mountain b...          77"
      ]
     },
     "execution_count": 18,
     "metadata": {},
     "output_type": "execute_result"
    }
   ],
   "source": [
    "#Character count in training data\n",
    "train_data['char_count'] = train_data['question_text'].str.len()\n",
    "train_data[['question_text','char_count']].head()"
   ]
  },
  {
   "cell_type": "code",
   "execution_count": 19,
   "metadata": {},
   "outputs": [
    {
     "data": {
      "text/html": [
       "<div>\n",
       "<style scoped>\n",
       "    .dataframe tbody tr th:only-of-type {\n",
       "        vertical-align: middle;\n",
       "    }\n",
       "\n",
       "    .dataframe tbody tr th {\n",
       "        vertical-align: top;\n",
       "    }\n",
       "\n",
       "    .dataframe thead th {\n",
       "        text-align: right;\n",
       "    }\n",
       "</style>\n",
       "<table border=\"1\" class=\"dataframe\">\n",
       "  <thead>\n",
       "    <tr style=\"text-align: right;\">\n",
       "      <th></th>\n",
       "      <th>question_text</th>\n",
       "      <th>char_count</th>\n",
       "    </tr>\n",
       "  </thead>\n",
       "  <tbody>\n",
       "    <tr>\n",
       "      <th>0</th>\n",
       "      <td>Why do so many women become so rude and arroga...</td>\n",
       "      <td>101</td>\n",
       "    </tr>\n",
       "    <tr>\n",
       "      <th>1</th>\n",
       "      <td>When should I apply for RV college of engineer...</td>\n",
       "      <td>162</td>\n",
       "    </tr>\n",
       "    <tr>\n",
       "      <th>2</th>\n",
       "      <td>What is it really like to be a nurse practitio...</td>\n",
       "      <td>50</td>\n",
       "    </tr>\n",
       "    <tr>\n",
       "      <th>3</th>\n",
       "      <td>Who are entrepreneurs?</td>\n",
       "      <td>22</td>\n",
       "    </tr>\n",
       "    <tr>\n",
       "      <th>4</th>\n",
       "      <td>Is education really making good people nowadays?</td>\n",
       "      <td>48</td>\n",
       "    </tr>\n",
       "  </tbody>\n",
       "</table>\n",
       "</div>"
      ],
      "text/plain": [
       "                                       question_text  char_count\n",
       "0  Why do so many women become so rude and arroga...         101\n",
       "1  When should I apply for RV college of engineer...         162\n",
       "2  What is it really like to be a nurse practitio...          50\n",
       "3                             Who are entrepreneurs?          22\n",
       "4   Is education really making good people nowadays?          48"
      ]
     },
     "execution_count": 19,
     "metadata": {},
     "output_type": "execute_result"
    }
   ],
   "source": [
    "#Character count in test data\n",
    "test_data['char_count'] = test_data['question_text'].str.len() ## this also includes spaces\n",
    "test_data[['question_text','char_count']].head()"
   ]
  },
  {
   "cell_type": "code",
   "execution_count": 20,
   "metadata": {},
   "outputs": [
    {
     "data": {
      "text/plain": [
       "0    how did quebec nationalists see their province...\n",
       "1    do you have an adopted dog, how would you enco...\n",
       "2    why does velocity affect time? does velocity a...\n",
       "3    how did otto von guericke used the magdeburg h...\n",
       "4    can i convert montra helicon d to a mountain b...\n",
       "Name: question_text, dtype: object"
      ]
     },
     "execution_count": 20,
     "metadata": {},
     "output_type": "execute_result"
    }
   ],
   "source": [
    "#To lower conversion training data\n",
    "train_data['question_text'] = train_data['question_text'].apply(lambda x: \" \".join(x.lower() for x in x.split()))\n",
    "train_data['question_text'].head()"
   ]
  },
  {
   "cell_type": "code",
   "execution_count": 21,
   "metadata": {},
   "outputs": [
    {
     "data": {
      "text/plain": [
       "0    why do so many women become so rude and arroga...\n",
       "1    when should i apply for rv college of engineer...\n",
       "2    what is it really like to be a nurse practitio...\n",
       "3                               who are entrepreneurs?\n",
       "4     is education really making good people nowadays?\n",
       "Name: question_text, dtype: object"
      ]
     },
     "execution_count": 21,
     "metadata": {},
     "output_type": "execute_result"
    }
   ],
   "source": [
    "##To lower conversion test data\n",
    "test_data['question_text'] = test_data['question_text'].apply(lambda x: \" \".join(x.lower() for x in x.split()))\n",
    "test_data['question_text'].head()"
   ]
  },
  {
   "cell_type": "code",
   "execution_count": 22,
   "metadata": {},
   "outputs": [
    {
     "data": {
      "text/plain": [
       "0    why do so many women become so rude and arroga...\n",
       "1    when should i apply for rv college of engineer...\n",
       "2    what is it really like to be a nurse practitioner\n",
       "3                                who are entrepreneurs\n",
       "4      is education really making good people nowadays\n",
       "Name: question_text, dtype: object"
      ]
     },
     "execution_count": 22,
     "metadata": {},
     "output_type": "execute_result"
    }
   ],
   "source": [
    "#Nullifying everything other than a combination of a word and immediate space\n",
    "test_data['question_text'] = test_data['question_text'].str.replace('[^\\w\\s]','')\n",
    "test_data['question_text'].head()"
   ]
  },
  {
   "cell_type": "code",
   "execution_count": 23,
   "metadata": {},
   "outputs": [
    {
     "data": {
      "text/plain": [
       "0    how did quebec nationalists see their province...\n",
       "1    do you have an adopted dog how would you encou...\n",
       "2    why does velocity affect time does velocity af...\n",
       "3    how did otto von guericke used the magdeburg h...\n",
       "4    can i convert montra helicon d to a mountain b...\n",
       "Name: question_text, dtype: object"
      ]
     },
     "execution_count": 23,
     "metadata": {},
     "output_type": "execute_result"
    }
   ],
   "source": [
    "#Nullifying everything other than a combination of a word and immediate space\n",
    "train_data['question_text'] = train_data['question_text'].str.replace('[^\\w\\s]','')\n",
    "train_data['question_text'].head()"
   ]
  },
  {
   "cell_type": "code",
   "execution_count": 24,
   "metadata": {},
   "outputs": [
    {
     "data": {
      "text/plain": [
       "405lbs             1\n",
       "shinkai            1\n",
       "18400              1\n",
       "altmedia           1\n",
       "canone             1\n",
       "chochódog          1\n",
       "wificontrolled     1\n",
       "tage               1\n",
       "lifequestions      1\n",
       "montecristo        1\n",
       "eos700d750d        1\n",
       "fossick            1\n",
       "perpetualmotion    1\n",
       "carouselslide      1\n",
       "honed              1\n",
       "watercourses       1\n",
       "ecoterrorist       1\n",
       "highso             1\n",
       "ortonville         1\n",
       "crystlyne          1\n",
       "dtype: int64"
      ]
     },
     "execution_count": 24,
     "metadata": {},
     "output_type": "execute_result"
    }
   ],
   "source": [
    "#Finding frequency\n",
    "freq = pd.Series(' '.join(train_data['question_text']).split()).value_counts()[-20:]\n",
    "freq"
   ]
  },
  {
   "cell_type": "code",
   "execution_count": 25,
   "metadata": {},
   "outputs": [],
   "source": [
    "freq = list(freq.index)"
   ]
  },
  {
   "cell_type": "code",
   "execution_count": 26,
   "metadata": {},
   "outputs": [
    {
     "data": {
      "text/plain": [
       "0    how did quebec nationalists see their province...\n",
       "1    do you have an adopted dog how would you encou...\n",
       "2    why does velocity affect time does velocity af...\n",
       "3    how did otto von guericke used the magdeburg h...\n",
       "4    can i convert montra helicon d to a mountain b...\n",
       "Name: question_text, dtype: object"
      ]
     },
     "execution_count": 26,
     "metadata": {},
     "output_type": "execute_result"
    }
   ],
   "source": [
    "train_data['question_text'] = train_data['question_text'].apply(lambda x: \" \".join(x for x in x.split() if x not in freq)) #Finding those texts which does not contain above words\n",
    "train_data['question_text'].head()"
   ]
  },
  {
   "cell_type": "code",
   "execution_count": 27,
   "metadata": {},
   "outputs": [
    {
     "data": {
      "text/plain": [
       "0    why do so many women become so rude and arroga...\n",
       "1    when should i apply for re college of engineer...\n",
       "2    what is it really like to be a nurse practitioner\n",
       "3                                who are entrepreneurs\n",
       "4      is education really making good people nowadays\n",
       "Name: question_text, dtype: object"
      ]
     },
     "execution_count": 27,
     "metadata": {},
     "output_type": "execute_result"
    }
   ],
   "source": [
    "from textblob import TextBlob #Using textblob libraries to correct word spelling.\n",
    "train_data['question_text'][:5].apply(lambda x: str(TextBlob(x).correct())) #Using textblob into train data\n",
    "test_data['question_text'][:5].apply(lambda x: str(TextBlob(x).correct())) #Using textblob into test data"
   ]
  },
  {
   "cell_type": "code",
   "execution_count": 28,
   "metadata": {},
   "outputs": [
    {
     "data": {
      "text/plain": [
       "0    how did quebec nationalist see their province ...\n",
       "1    do you have an adopted dog how would you encou...\n",
       "2    why doe velocity affect time doe velocity affe...\n",
       "3    how did otto von guericke used the magdeburg h...\n",
       "4    can i convert montra helicon d to a mountain b...\n",
       "Name: question_text, dtype: object"
      ]
     },
     "execution_count": 28,
     "metadata": {},
     "output_type": "execute_result"
    }
   ],
   "source": [
    "from textblob import Word\n",
    "#Using lemmatization to process grouping of those words which resembles the same using train data.\n",
    "#To perform lemmatization using TextBlob,the Word object has to be used from the textblob library and it should be passed with word that you want to lemmatize\n",
    "train_data['question_text'] = train_data['question_text'].apply(lambda x: \" \".join([Word(word).lemmatize() for word in x.split()]))\n",
    "#the word attribute returns the tokenized words\n",
    "train_data['question_text'].head()"
   ]
  },
  {
   "cell_type": "code",
   "execution_count": 29,
   "metadata": {},
   "outputs": [
    {
     "data": {
      "text/plain": [
       "0    why do so many woman become so rude and arroga...\n",
       "1    when should i apply for rv college of engineer...\n",
       "2    what is it really like to be a nurse practitioner\n",
       "3                                 who are entrepreneur\n",
       "4      is education really making good people nowadays\n",
       "Name: question_text, dtype: object"
      ]
     },
     "execution_count": 29,
     "metadata": {},
     "output_type": "execute_result"
    }
   ],
   "source": [
    "#Using lemmatization to process grouping of those words which resembles the same using test data.\n",
    "test_data['question_text'] = test_data['question_text'].apply(lambda x: \" \".join([Word(word).lemmatize() for word in x.split()]))\n",
    "#the word attribute returns the tokenized words\n",
    "test_data['question_text'].head()"
   ]
  },
  {
   "cell_type": "code",
   "execution_count": 30,
   "metadata": {},
   "outputs": [
    {
     "data": {
      "text/html": [
       "<div>\n",
       "<style scoped>\n",
       "    .dataframe tbody tr th:only-of-type {\n",
       "        vertical-align: middle;\n",
       "    }\n",
       "\n",
       "    .dataframe tbody tr th {\n",
       "        vertical-align: top;\n",
       "    }\n",
       "\n",
       "    .dataframe thead th {\n",
       "        text-align: right;\n",
       "    }\n",
       "</style>\n",
       "<table border=\"1\" class=\"dataframe\">\n",
       "  <thead>\n",
       "    <tr style=\"text-align: right;\">\n",
       "      <th></th>\n",
       "      <th>qid</th>\n",
       "      <th>question_text</th>\n",
       "      <th>word_count</th>\n",
       "      <th>char_count</th>\n",
       "    </tr>\n",
       "  </thead>\n",
       "  <tbody>\n",
       "    <tr>\n",
       "      <th>0</th>\n",
       "      <td>0000163e3ea7c7a74cd7</td>\n",
       "      <td>why do so many woman become so rude and arroga...</td>\n",
       "      <td>21</td>\n",
       "      <td>101</td>\n",
       "    </tr>\n",
       "    <tr>\n",
       "      <th>1</th>\n",
       "      <td>00002bd4fb5d505b9161</td>\n",
       "      <td>when should i apply for rv college of engineer...</td>\n",
       "      <td>30</td>\n",
       "      <td>162</td>\n",
       "    </tr>\n",
       "    <tr>\n",
       "      <th>2</th>\n",
       "      <td>00007756b4a147d2b0b3</td>\n",
       "      <td>what is it really like to be a nurse practitioner</td>\n",
       "      <td>10</td>\n",
       "      <td>50</td>\n",
       "    </tr>\n",
       "    <tr>\n",
       "      <th>3</th>\n",
       "      <td>000086e4b7e1c7146103</td>\n",
       "      <td>who are entrepreneur</td>\n",
       "      <td>3</td>\n",
       "      <td>22</td>\n",
       "    </tr>\n",
       "    <tr>\n",
       "      <th>4</th>\n",
       "      <td>0000c4c3fbe8785a3090</td>\n",
       "      <td>is education really making good people nowadays</td>\n",
       "      <td>7</td>\n",
       "      <td>48</td>\n",
       "    </tr>\n",
       "  </tbody>\n",
       "</table>\n",
       "</div>"
      ],
      "text/plain": [
       "                    qid                                      question_text  \\\n",
       "0  0000163e3ea7c7a74cd7  why do so many woman become so rude and arroga...   \n",
       "1  00002bd4fb5d505b9161  when should i apply for rv college of engineer...   \n",
       "2  00007756b4a147d2b0b3  what is it really like to be a nurse practitioner   \n",
       "3  000086e4b7e1c7146103                               who are entrepreneur   \n",
       "4  0000c4c3fbe8785a3090    is education really making good people nowadays   \n",
       "\n",
       "   word_count  char_count  \n",
       "0          21         101  \n",
       "1          30         162  \n",
       "2          10          50  \n",
       "3           3          22  \n",
       "4           7          48  "
      ]
     },
     "execution_count": 30,
     "metadata": {},
     "output_type": "execute_result"
    }
   ],
   "source": [
    "test_data.head() #displaying the test data "
   ]
  },
  {
   "cell_type": "code",
   "execution_count": 31,
   "metadata": {},
   "outputs": [
    {
     "name": "stdout",
     "output_type": "stream",
     "text": [
      "[nltk_data] Downloading package stopwords to\n",
      "[nltk_data]     C:\\Users\\Admin\\AppData\\Roaming\\nltk_data...\n",
      "[nltk_data]   Package stopwords is already up-to-date!\n"
     ]
    }
   ],
   "source": [
    "import nltk\n",
    "nltk.download('stopwords')\n",
    "\n",
    "# Importing stopwords with nltk.\n",
    "from nltk.corpus import stopwords\n",
    "stop = stopwords.words('english')"
   ]
  },
  {
   "cell_type": "code",
   "execution_count": 32,
   "metadata": {},
   "outputs": [
    {
     "data": {
      "text/plain": [
       "0    many woman become rude arrogant get little bit...\n",
       "1    apply rv college engineering bm college engine...\n",
       "2                       really like nurse practitioner\n",
       "3                                         entrepreneur\n",
       "4         education really making good people nowadays\n",
       "Name: question_text, dtype: object"
      ]
     },
     "execution_count": 32,
     "metadata": {},
     "output_type": "execute_result"
    }
   ],
   "source": [
    "#Removing stop words from both the datasets\n",
    "train_data['question_text'] = train_data['question_text'].apply(lambda x: ' '.join([word for word in x.split() if word not in (stop)]))\n",
    "test_data['question_text'] = test_data['question_text'].apply(lambda x: ' '.join([word for word in x.split() if word not in (stop)]))\n",
    "train_data['question_text'].head()\n",
    "test_data['question_text'].head()"
   ]
  },
  {
   "cell_type": "markdown",
   "metadata": {},
   "source": [
    "### Under Sampling"
   ]
  },
  {
   "cell_type": "code",
   "execution_count": 33,
   "metadata": {},
   "outputs": [
    {
     "name": "stdout",
     "output_type": "stream",
     "text": [
      "Percentage of Sincere Questions (value=0) is 93.81298224821265\n",
      "Percentage of Nonsincere Questions (value=1) is 6.187017751787352\n"
     ]
    }
   ],
   "source": [
    "#Percentage of sincere and non sincere questions\n",
    "Count_Sincere_Questions = len(train_data[train_data[\"target\"]==0]) \n",
    "Count_Insincere_Questions = len(train_data[train_data[\"target\"]==1]) \n",
    "Percentage_of_Sincere_Questions = Count_Sincere_Questions/(Count_Sincere_Questions+Count_Insincere_Questions)\n",
    "print(\"Percentage of Sincere Questions (value=0) is\",Percentage_of_Sincere_Questions*100)\n",
    "Percentage_of_Insincere_Questions= Count_Insincere_Questions/(Count_Sincere_Questions+Count_Insincere_Questions)\n",
    "print(\"Percentage of Nonsincere Questions (value=1) is\",Percentage_of_Insincere_Questions*100)"
   ]
  },
  {
   "cell_type": "code",
   "execution_count": 34,
   "metadata": {},
   "outputs": [],
   "source": [
    "#Collecting the sincere and insincee question indices\n",
    "insincere_indices= np.array(train_data[train_data.target==1].index)\n",
    "normal_indices = np.array(train_data[train_data.target==0].index)"
   ]
  },
  {
   "cell_type": "code",
   "execution_count": 35,
   "metadata": {},
   "outputs": [],
   "source": [
    "#Defining a function to do undersampling. 'times' passed indicates percentage to be undersampled\n",
    "#Sincere_Data = times*Insincere_Data\n",
    "def undersample(normal_indices,insincere_indices,times):\n",
    "    Normal_indices_undersample = np.array(np.random.choice(normal_indices,(times*Count_Insincere_Questions),replace=False))\n",
    "    print(len(Normal_indices_undersample))\n",
    "    undersample_data= np.concatenate([insincere_indices,Normal_indices_undersample])\n",
    "\n",
    "    undersample_data = train_data.iloc[undersample_data,:]\n",
    "    print(len(undersample_data))\n",
    "\n",
    "    print(\"the sincere questions proportion is :\",len(undersample_data[undersample_data.target==0])/len(undersample_data))\n",
    "    print(\"the insincere questions proportion is :\",len(undersample_data[undersample_data.target==1])/len(undersample_data))\n",
    "    print(\"total number of record in resampled data is:\",len(undersample_data))\n",
    "    return(undersample_data)"
   ]
  },
  {
   "cell_type": "code",
   "execution_count": 36,
   "metadata": {},
   "outputs": [
    {
     "name": "stdout",
     "output_type": "stream",
     "text": [
      "727290\n",
      "808100\n",
      "the sincere questions proportion is : 0.9\n",
      "the insincere questions proportion is : 0.1\n",
      "total number of record in resampled data is: 808100\n",
      "<class 'pandas.core.frame.DataFrame'>\n",
      "Int64Index: 808100 entries, 22 to 234800\n",
      "Data columns (total 5 columns):\n",
      "qid              808100 non-null object\n",
      "question_text    808100 non-null object\n",
      "target           808100 non-null int64\n",
      "word_count       808100 non-null int64\n",
      "char_count       808100 non-null int64\n",
      "dtypes: int64(3), object(2)\n",
      "memory usage: 37.0+ MB\n"
     ]
    }
   ],
   "source": [
    "#calling the function and undersampling\n",
    "Undersample_data = undersample(normal_indices,insincere_indices,9)\n",
    "Undersample_data.info()"
   ]
  },
  {
   "cell_type": "code",
   "execution_count": 37,
   "metadata": {},
   "outputs": [
    {
     "name": "stdout",
     "output_type": "stream",
     "text": [
      "Sincere (0) vs Insincere (1) before under sampling\n"
     ]
    },
    {
     "data": {
      "text/plain": [
       "<matplotlib.axes._subplots.AxesSubplot at 0x24543370a90>"
      ]
     },
     "execution_count": 37,
     "metadata": {},
     "output_type": "execute_result"
    },
    {
     "data": {
      "image/png": "[encoded data removed]",
      "text/plain": [
       "<Figure size 432x288 with 1 Axes>"
      ]
     },
     "metadata": {},
     "output_type": "display_data"
    }
   ],
   "source": [
    "import seaborn as sns # for interactve graphs\n",
    "#proportion of sincere and insincere data before undersampling\n",
    "print(\"Sincere (0) vs Insincere (1) before under sampling\")\n",
    "sns.countplot(\"target\",data=train_data)"
   ]
  },
  {
   "cell_type": "code",
   "execution_count": 38,
   "metadata": {},
   "outputs": [
    {
     "name": "stdout",
     "output_type": "stream",
     "text": [
      "Sincere (0) vs Insincere (1) after under sampling\n"
     ]
    },
    {
     "data": {
      "text/plain": [
       "<matplotlib.axes._subplots.AxesSubplot at 0x245433335f8>"
      ]
     },
     "execution_count": 38,
     "metadata": {},
     "output_type": "execute_result"
    },
    {
     "data": {
      "image/png": "[encoded data removed]",
      "text/plain": [
       "<Figure size 432x288 with 1 Axes>"
      ]
     },
     "metadata": {},
     "output_type": "display_data"
    }
   ],
   "source": [
    "#proportion of sincere and insincere data after undersampling\n",
    "print(\"Sincere (0) vs Insincere (1) after under sampling\")\n",
    "sns.countplot(\"target\",data=Undersample_data)"
   ]
  },
  {
   "cell_type": "markdown",
   "metadata": {},
   "source": [
    "# Models after data processing and under sampling"
   ]
  },
  {
   "cell_type": "code",
   "execution_count": 39,
   "metadata": {},
   "outputs": [],
   "source": [
    "#Assigning the processed texts to respective train set and test set\n",
    "Undersample_data = Undersample_data.reset_index()\n",
    "train_text = Undersample_data['question_text']\n",
    "test_text = test_data['question_text']\n",
    "train_target = Undersample_data['target']\n",
    "all_text = train_text.append(test_text)\n"
   ]
  },
  {
   "cell_type": "code",
   "execution_count": 40,
   "metadata": {},
   "outputs": [],
   "source": [
    "tfidf_vectorizer = TfidfVectorizer() #Using TfidfVectorizer function to convert the raw text sentences to a matrix for feature extraction.\n",
    "tfidf_vectorizer.fit(all_text) #Passing the all text sentences to the TfidfVectorizer function.\n",
    "\n",
    "count_vectorizer = CountVectorizer()\n",
    "count_vectorizer.fit(all_text) #Using CountVectorizer function to convert texts to word count vectors.\n",
    "\n",
    "train_text_features_cv = count_vectorizer.transform(train_text) #Passing train data to CountVectorizer method.\n",
    "test_text_features_cv = count_vectorizer.transform(test_text) #Similarly passing the testdata to CountVectorizer method.\n",
    "\n",
    "train_text_features_tf = tfidf_vectorizer.transform(train_text)\n",
    "test_text_features_tf = tfidf_vectorizer.transform(test_text)"
   ]
  },
  {
   "cell_type": "markdown",
   "metadata": {},
   "source": [
    "### Logistic Regression"
   ]
  },
  {
   "cell_type": "code",
   "execution_count": 73,
   "metadata": {},
   "outputs": [],
   "source": [
    "kfold = KFold(n_splits = 5, shuffle = True, random_state = 2018) #Using k-fold validation with split value of 5\n",
    "test_preds = 0\n",
    "oof_preds = np.zeros([Undersample_data.shape[0],])"
   ]
  },
  {
   "cell_type": "code",
   "execution_count": 74,
   "metadata": {},
   "outputs": [
    {
     "name": "stdout",
     "output_type": "stream",
     "text": [
      "fitting.......\n",
      "predicting......\n",
      "\n",
      "\n",
      "fitting.......\n",
      "predicting......\n",
      "\n",
      "\n",
      "fitting.......\n",
      "predicting......\n",
      "\n",
      "\n",
      "fitting.......\n",
      "predicting......\n",
      "\n",
      "\n",
      "fitting.......\n",
      "predicting......\n",
      "\n",
      "\n"
     ]
    },
    {
     "data": {
      "text/plain": [
       "0.6513435243227391"
      ]
     },
     "execution_count": 74,
     "metadata": {},
     "output_type": "execute_result"
    }
   ],
   "source": [
    "for i, (train_idx,valid_idx) in enumerate(kfold.split(Undersample_data)):\n",
    "    x_train, x_valid = train_text_features_tf[train_idx,:], train_text_features_tf[valid_idx,:]\n",
    "    y_train, y_valid = train_target[train_idx], train_target[valid_idx]\n",
    "    classifier = LogisticRegression() # Defining the Logistic regression classifier, train data, test data.\n",
    "    print('fitting.......')\n",
    "    classifier.fit(x_train,y_train)\n",
    "    print('predicting......')\n",
    "    print('\\n')\n",
    "    oof_preds[valid_idx] = classifier.predict_proba(x_valid)[:,1] #Using predict_proba as the function which provides the probability for the target value in array form\n",
    "    test_preds += 0.2*classifier.predict_proba(test_text_features_tf)[:,1] \n",
    "\n",
    "pred_train = (oof_preds > .3).astype(np.int)\n",
    "f1_score(train_target, pred_train) #Obtaining the f1 score of classifier"
   ]
  },
  {
   "cell_type": "code",
   "execution_count": 75,
   "metadata": {},
   "outputs": [
    {
     "name": "stdout",
     "output_type": "stream",
     "text": [
      "Logistic regression after data processing and under sampling\n",
      "\n",
      "             precision    recall  f1-score   support\n",
      "\n",
      "          0       0.96      0.96      0.96    727290\n",
      "          1       0.64      0.66      0.65     80810\n",
      "\n",
      "avg / total       0.93      0.93      0.93    808100\n",
      "\n"
     ]
    }
   ],
   "source": [
    "print(\"Logistic regression after data processing and under sampling\\n\")\n",
    "print(classification_report(train_target, pred_train))#Displaying the classification report of the classifier"
   ]
  },
  {
   "cell_type": "code",
   "execution_count": 76,
   "metadata": {},
   "outputs": [
    {
     "data": {
      "text/plain": [
       "array([[697730,  29560],\n",
       "       [ 27506,  53304]], dtype=int64)"
      ]
     },
     "execution_count": 76,
     "metadata": {},
     "output_type": "execute_result"
    }
   ],
   "source": [
    "cm = confusion_matrix(train_target,pred_train) #Displaying the confusion matrix\n",
    "cm"
   ]
  },
  {
   "cell_type": "code",
   "execution_count": 79,
   "metadata": {},
   "outputs": [
    {
     "data": {
      "image/png": "[encoded data removed]",
      "text/plain": [
       "<Figure size 432x288 with 1 Axes>"
      ]
     },
     "metadata": {},
     "output_type": "display_data"
    }
   ],
   "source": [
    "binary = np.array(cm)\n",
    "ax = plot_confusion_matrix(conf_mat=binary,show_absolute=True,\n",
    "                                show_normed=True,\n",
    "                                colorbar=False)\n",
    "plt.imshow(cm, interpolation='nearest', cmap=plt.cm.Dark2)\n",
    "plt.show() #Pictorial representation of confusion matrix with prcentage values"
   ]
  },
  {
   "cell_type": "code",
   "execution_count": 46,
   "metadata": {},
   "outputs": [
    {
     "data": {
      "image/png": "[encoded data removed]",
      "text/plain": [
       "<Figure size 432x288 with 1 Axes>"
      ]
     },
     "metadata": {},
     "output_type": "display_data"
    }
   ],
   "source": [
    "fpr, tpr, thresholds = roc_curve(train_target,pred_train)\n",
    "roc_auc = auc(fpr, tpr)\n",
    "\n",
    "plt.title('Receiver Operating Characteristic')\n",
    "plt.plot(fpr, tpr, label='AUC = %0.4f'% roc_auc)\n",
    "plt.legend(loc='lower right')\n",
    "plt.plot([0,1],[0,1],'r--')\n",
    "plt.xlim([-0.001, 1])\n",
    "plt.ylim([0, 1.001])\n",
    "plt.ylabel('True Positive Rate')\n",
    "plt.xlabel('False Positive Rate')\n",
    "plt.show();"
   ]
  },
  {
   "cell_type": "markdown",
   "metadata": {},
   "source": [
    "### Naive Bayes With processing and under sampling"
   ]
  },
  {
   "cell_type": "code",
   "execution_count": 69,
   "metadata": {},
   "outputs": [
    {
     "name": "stdout",
     "output_type": "stream",
     "text": [
      "fitting.......\n",
      "predicting......\n",
      "\n",
      "\n",
      "fitting.......\n",
      "predicting......\n",
      "\n",
      "\n",
      "fitting.......\n",
      "predicting......\n",
      "\n",
      "\n",
      "fitting.......\n",
      "predicting......\n",
      "\n",
      "\n",
      "fitting.......\n",
      "predicting......\n",
      "\n",
      "\n"
     ]
    },
    {
     "data": {
      "text/plain": [
       "0.5897171010807375"
      ]
     },
     "execution_count": 69,
     "metadata": {},
     "output_type": "execute_result"
    }
   ],
   "source": [
    "kfold = KFold(n_splits = 5, shuffle = True, random_state = 2018) #Using k-fold validation with split value of 5\n",
    "test_preds1 = 0\n",
    "oof_preds1 = np.zeros([Undersample_data.shape[0],])\n",
    "test_preds2 = 0\n",
    "oof_preds2 = np.zeros([Undersample_data.shape[0],])\n",
    "\n",
    "\n",
    "for i, (train_idx, valid_idx) in enumerate(kfold.split(Undersample_data)):\n",
    "    x_train, x_valid = train_text_features_cv[train_idx,:],train_text_features_cv[valid_idx,:]\n",
    "    y_train, y_valid = train_target[train_idx], train_target[valid_idx]\n",
    "    classifier1 = MultinomialNB() # Defining the Multinomial NB classifier, train data, test data.\n",
    "    classifier2 = BernoulliNB() # Defining the Bernoulli NB classifier, train data, test data.\n",
    "    print('fitting.......')\n",
    "    classifier1.fit(x_train,y_train)\n",
    "    classifier2.fit(x_train,y_train)\n",
    "    print('predicting......')\n",
    "    print('\\n')\n",
    "    \n",
    "    oof_preds1[valid_idx] = classifier1.predict_proba(x_valid)[:,1] #Using predict_proba as the function which provides the probability for the target value in array form\n",
    "    test_preds1 += 0.2*classifier1.predict_proba(test_text_features_cv)[:,1]\n",
    "    oof_preds2[valid_idx] = classifier2.predict_proba(x_valid)[:,1]\n",
    "    test_preds2 += 0.2*classifier2.predict_proba(test_text_features_cv)[:,1]\n",
    "\n",
    "pred_train = (oof_preds1 > .3).astype(np.int)\n",
    "f1_score(train_target, pred_train) #Obtaining the f1 score of classifier1"
   ]
  },
  {
   "cell_type": "code",
   "execution_count": 70,
   "metadata": {},
   "outputs": [
    {
     "name": "stdout",
     "output_type": "stream",
     "text": [
      "Multinomial Naive Bayes after data processing and under sampling\n",
      "\n",
      "             precision    recall  f1-score   support\n",
      "\n",
      "          0       0.97      0.92      0.94    727290\n",
      "          1       0.49      0.73      0.59     80810\n",
      "\n",
      "avg / total       0.92      0.90      0.91    808100\n",
      "\n"
     ]
    }
   ],
   "source": [
    "print(\"Multinomial Naive Bayes after data processing and under sampling\\n\")\n",
    "print(classification_report(train_target, pred_train))#Displaying the classification report of the classifier"
   ]
  },
  {
   "cell_type": "code",
   "execution_count": 71,
   "metadata": {},
   "outputs": [
    {
     "data": {
      "text/plain": [
       "array([[666124,  61166],\n",
       "       [ 21442,  59368]], dtype=int64)"
      ]
     },
     "execution_count": 71,
     "metadata": {},
     "output_type": "execute_result"
    }
   ],
   "source": [
    "cm = confusion_matrix(train_target,pred_train) #Displaying the confusion matrix\n",
    "cm"
   ]
  },
  {
   "cell_type": "code",
   "execution_count": 72,
   "metadata": {},
   "outputs": [
    {
     "data": {
      "image/png": "[encoded data removed]",
      "text/plain": [
       "<Figure size 432x288 with 1 Axes>"
      ]
     },
     "metadata": {},
     "output_type": "display_data"
    }
   ],
   "source": [
    "binary = np.array(cm)\n",
    "ax = plot_confusion_matrix(conf_mat=binary,show_absolute=True,\n",
    "                                show_normed=True,\n",
    "                                colorbar=False)\n",
    "plt.imshow(cm, interpolation='nearest', cmap=plt.cm.Dark2)\n",
    "plt.show() #Pictorial representation of confusion matrix with prcentage values"
   ]
  },
  {
   "cell_type": "code",
   "execution_count": 51,
   "metadata": {},
   "outputs": [
    {
     "data": {
      "text/plain": [
       "0.5911034809522929"
      ]
     },
     "execution_count": 51,
     "metadata": {},
     "output_type": "execute_result"
    }
   ],
   "source": [
    "pred_train = (oof_preds2 > .3).astype(np.int)\n",
    "f1_score(train_target, pred_train) #Obtaining the f1 score of classifier1"
   ]
  },
  {
   "cell_type": "code",
   "execution_count": 52,
   "metadata": {},
   "outputs": [
    {
     "name": "stdout",
     "output_type": "stream",
     "text": [
      "Bernoulli Naive Bayes after data processing and under sampling\n",
      "\n",
      "             precision    recall  f1-score   support\n",
      "\n",
      "          0       0.95      0.95      0.95    727290\n",
      "          1       0.59      0.59      0.59     80810\n",
      "\n",
      "avg / total       0.92      0.92      0.92    808100\n",
      "\n"
     ]
    }
   ],
   "source": [
    "print(\"Bernoulli Naive Bayes after data processing and under sampling\\n\")\n",
    "print(classification_report(train_target, pred_train))#Displaying the classification report of the classifier"
   ]
  },
  {
   "cell_type": "code",
   "execution_count": 53,
   "metadata": {},
   "outputs": [
    {
     "data": {
      "text/plain": [
       "array([[693618,  33672],\n",
       "       [ 32779,  48031]], dtype=int64)"
      ]
     },
     "execution_count": 53,
     "metadata": {},
     "output_type": "execute_result"
    }
   ],
   "source": [
    "cm = confusion_matrix(train_target,pred_train) #Displaying the confusion matrix of classifier2\n",
    "cm"
   ]
  },
  {
   "cell_type": "code",
   "execution_count": 68,
   "metadata": {},
   "outputs": [
    {
     "data": {
      "image/png": "[encoded data removed]",
      "text/plain": [
       "<Figure size 432x288 with 1 Axes>"
      ]
     },
     "metadata": {},
     "output_type": "display_data"
    }
   ],
   "source": [
    "binary = np.array(cm)\n",
    "ax = plot_confusion_matrix(conf_mat=binary,show_absolute=True,\n",
    "                                show_normed=True,\n",
    "                                colorbar=False)\n",
    "plt.imshow(cm, interpolation='nearest', cmap=plt.cm.Dark2)\n",
    "plt.show() #Pictorial representation of confusion matrix with prcentage values"
   ]
  },
  {
   "cell_type": "code",
   "execution_count": null,
   "metadata": {},
   "outputs": [],
   "source": []
  }
 ],
 "metadata": {
  "kernelspec": {
   "display_name": "Python 3",
   "language": "python",
   "name": "python3"
  },
  "language_info": {
   "codemirror_mode": {
    "name": "ipython",
    "version": 3
   },
   "file_extension": ".py",
   "mimetype": "text/x-python",
   "name": "python",
   "nbconvert_exporter": "python",
   "pygments_lexer": "ipython3",
   "version": "3.6.5"
  }
 },
 "nbformat": 4,
 "nbformat_minor": 2
}
